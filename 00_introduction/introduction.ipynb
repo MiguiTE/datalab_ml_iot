{
 "cells": [
  {
   "cell_type": "markdown",
   "metadata": {
    "slideshow": {
     "slide_type": "slide"
    }
   },
   "source": [
    " <div style=\"text-align:center\">\n",
    "\n",
    "# Hands-On Machine Learning for the IoT\n",
    "<hr style=\"height:4px\">\n",
    "\n",
    "<b/> \n",
    "## 8-9 May 2019\n",
    "## Master of Data Science (UC-UIMP-CSIC)\n",
    "</div>\n",
    "<b/> \n",
    "\n",
    "<br>\n",
    "\n",
    "## *Pablo de Castro (pablodecm@gmail.com)*\n",
    "\n",
    "<i class=\"fa fa-twitter\"></i> [@pablodecm](https://twitter.com/pablodecm)\n",
    "&nbsp; <i class=\"fa fa-linkedin\"></i> [pablodecm](https://www.linkedin.com/in/pablodecm)\n",
    "&nbsp; <i class=\"fa fa-github\"></i> [pablodecm](https://github.com/pablodecm)\n",
    "&nbsp; [pablodecm.com](https://pablodecm.com)\n"
   ]
  },
  {
   "cell_type": "markdown",
   "metadata": {
    "cell_style": "center",
    "slideshow": {
     "slide_type": "slide"
    }
   },
   "source": [
    "\n",
    "<img style=\"float:right\" width=\"30%\" src=\"images/cms_experiment.jpg\"/>\n",
    "\n",
    "<div>\n",
    "    \n",
    "## A Little Bit About Me\n",
    "\n",
    "- I am Pablo\n",
    "- I enjoy working with various computational tools and data\n",
    "- Bachelor's and Master's degree (in Physics) @ UNICAN\n",
    "- Just finished my PhD at the U. of Padua, focused on:\n",
    "    - Development of new ML techniques at the LHC\n",
    "    - Improving statistical analysis at large experiments\n",
    "\n",
    "\n",
    "</div>\n"
   ]
  },
  {
   "cell_type": "markdown",
   "metadata": {
    "slideshow": {
     "slide_type": "fragment"
    }
   },
   "source": [
    "## ... and now it is your turn"
   ]
  },
  {
   "cell_type": "markdown",
   "metadata": {
    "slideshow": {
     "slide_type": "slide"
    }
   },
   "source": [
    "## Objectives (of this two IoT DataLab sessions)\n",
    "\n",
    "- Understand some of the roles that of Machine Learning (ML) techniques in Internet of Things (IoT) scenarios\n",
    "- Explore using practical examples several IoT data and predictive analytics use cases\n",
    "- Highlight the main challenges when using ML techniques in the real-word IoT applications\n"
   ]
  },
  {
   "cell_type": "markdown",
   "metadata": {
    "slideshow": {
     "slide_type": "fragment"
    }
   },
   "source": [
    "## Limitations (of this two IoT DataLab sessions)\n",
    "\n",
    "- The number of applications of advanced analytics and ML in IoT is very large (and growing), here we will\n",
    "  only cover a small subset\n",
    "- Will assume some familiarity with ML fundamentals and techniques, I will be focussing more in applications\n",
    " "
   ]
  },
  {
   "cell_type": "markdown",
   "metadata": {
    "slideshow": {
     "slide_type": "slide"
    }
   },
   "source": [
    "## Tutorial Materials\n",
    "\n",
    "All the material in this tutorial are available online at the following\n",
    "GitHub repository:\n",
    "\n",
    "\n",
    "\n",
    "<p style=\"text-align: center; font-size: 150%\">\n",
    "<a href=\"https://github.com/pablodecm/datalab_ml_iot\">https://github.com/pablodecm/datalab_ml_iot</a>\n",
    "</p>"
   ]
  },
  {
   "cell_type": "markdown",
   "metadata": {
    "slideshow": {
     "slide_type": "slide"
    }
   },
   "source": [
    "## Working with Jupyter Notebooks\n",
    "\n",
    "We will be working in [Google Colaboratory](https://colab.research.google.com/) to simplify the environment\n",
    "setup and ensure that everyone has *powerful enough computing resources*.\n",
    "\n",
    "\n"
   ]
  },
  {
   "cell_type": "markdown",
   "metadata": {
    "slideshow": {
     "slide_type": "subslide"
    }
   },
   "source": [
    "## Jupyter and Google Colaboratory Basics\n",
    "\n",
    "In case you are not familiar, you can find a tutorial and introduction at:\n",
    "\n",
    "- https://colab.research.google.com/notebooks/welcome.ipynb\n",
    "\n",
    "I recommend logging in with you Google account and copying the notebook you are working\n",
    "on if you want to save your results.\n",
    "\n",
    "<p>\n",
    "For example, load (and then save using File->Save a Copy as) this notebook by clicking\n",
    "on the following badge:\n",
    "<a href=\"https://colab.research.google.com/github/pablodecm/datalab_ml_iot/blob/master/00_introduction/introduction.ipynb\">\n",
    "  <img src=\"https://colab.research.google.com/assets/colab-badge.svg\" alt=\"Open In Colab\" style=\"display: inline\"/>\n",
    "</a>\n",
    "</p>"
   ]
  },
  {
   "cell_type": "code",
   "execution_count": null,
   "metadata": {
    "slideshow": {
     "slide_type": "subslide"
    }
   },
   "outputs": [],
   "source": [
    "# we will be using Python3 extensively\n",
    "\n",
    "# rememeber print is a function (with parenthesis)\n",
    "print(\"Hello World!\")"
   ]
  },
  {
   "cell_type": "code",
   "execution_count": null,
   "metadata": {
    "slideshow": {
     "slide_type": "subslide"
    }
   },
   "outputs": [],
   "source": [
    "# also linux commands within the notebook\n",
    "\n",
    "# e.g. this check the GPU model and memory\n",
    "!nvidia-smi\n",
    "# this the CPU\n",
    "!lscpu\n",
    "# this the memory\n",
    "!cat /proc/meminfo\n",
    "# this the disk\n",
    "!df -h\n",
    "\n",
    "# but this virtual machine will be turn-off and erased\n",
    "# in about 12 hours, so save your notebooks to Google Drive"
   ]
  },
  {
   "cell_type": "markdown",
   "metadata": {
    "slideshow": {
     "slide_type": "slide"
    }
   },
   "source": [
    "## Motivation for ML and Advanced Analytics in IoT\n",
    "\n",
    "<div align=\"center\">\n",
    "<img width=\"40%\" src=\"images/iot_hype.png\"/>\n",
    "</div>\n",
    "\n",
    "The amount and diversity of data generated by IoT devices grows every year,\n",
    "yet complex applications often require prediction or modelling capabilities\n",
    "that can be achieved by using machine learning techniques.\n",
    "\n",
    "*Image source*: [towardsdatascience.com](https://towardsdatascience.com/iot-machine-learning-is-going-to-change-the-world-7c4e0cd7ac32)\n"
   ]
  },
  {
   "cell_type": "markdown",
   "metadata": {
    "slideshow": {
     "slide_type": "slide"
    }
   },
   "source": [
    "## Types of Machine Learning\n",
    "\n",
    "We will be focussing on these tutorial on applications that use supervised machine learning,\n",
    "which often correspond to prediction and recognitions task and for which the current state-of-the-art\n",
    "leads to many useful applications.\n",
    "\n",
    "Powerful unsupervised and reinforcement learning algorithms can also have direct IoT applications, such\n",
    "as anomaly detection for the former or automatic resource management for the later.\n",
    "\n",
    "<div align=\"center\">\n",
    "<img width=\"40%\" src=\"images/machine_learning_types.png\"/>\n",
    "</div>\n",
    "\n",
    "*Image source*: [http://www.cognub.com](http://www.cognub.com/index.php/cognitive-platform/)\n"
   ]
  },
  {
   "cell_type": "markdown",
   "metadata": {
    "slideshow": {
     "slide_type": "slide"
    }
   },
   "source": [
    "## Practical Use Cases Overview\n",
    "\n",
    "We will be covering a few applications of advanced data analytics and machine learning\n",
    "for the Internet of Things, in particular:\n",
    "\n",
    "1. **Predictive Maintenance** (*today*): predict when an turbofan plane engine will break based on\n",
    "    reading of the integrated sensors so costly maintenance tasks can be scheduled smartly.\n",
    "    <a href=\"https://colab.research.google.com/github/pablodecm/datalab_ml_iot/blob/master/01_predictive_mainteinance/predictive_maintenance.ipynb\">\n",
    "  <img src=\"https://colab.research.google.com/assets/colab-badge.svg\" alt=\"Open In Colab\" style=\"display: inline\"/>\n",
    "</a>\n",
    "2. **Trip Duration Prediction** (*today*): based real-world Taxi data from New York city in 2016, predict\n",
    "   the duration of a taxi trip based on the pickup/drop-off coordinates, taxi information and\n",
    "   additional datasets.\n",
    "    <a href=\"https://colab.research.google.com/github/pablodecm/datalab_ml_iot/blob/master/02_trip_duration_prediction/trip_duration_prediction.ipynb\">\n",
    "  <img src=\"https://colab.research.google.com/assets/colab-badge.svg\" alt=\"Open In Colab\" style=\"display: inline\"/>\n",
    "</a>\n",
    "3. **Internet of (Magic) Wands** (*today intro/tomorrow*): using our smartphone as a magic wand, we will collect data of labelled magic spells and then train a spell recognition model based on our own sensor data.\n",
    "    <a href=\"https://colab.research.google.com/github/pablodecm/datalab_ml_iot/blob/master/03_internet_of_wands/internet_of_wands.ipynb\">\n",
    "  <img src=\"https://colab.research.google.com/assets/colab-badge.svg\" alt=\"Open In Colab\" style=\"display: inline\"/>\n",
    "</a>\n",
    "4. **Traffic Camera Object Detection** (*maybe tomorrow*): we will use a pre-trained state-of-the-art\n",
    "   object detection system to identify and count the various objects in traffic camera footage.\n",
    "<a href=\"https://colab.research.google.com/github/pablodecm/datalab_ml_iot/blob/master/004_camera_object_recognition/camera_object_recognition.ipynb\">\n",
    "  <img src=\"https://colab.research.google.com/assets/colab-badge.svg\" alt=\"Open In Colab\" style=\"display: inline\"/>\n",
    "</a>\n"
   ]
  },
  {
   "cell_type": "markdown",
   "metadata": {
    "slideshow": {
     "slide_type": "slide"
    }
   },
   "source": [
    "## Let's get started!\n",
    "\n",
    "By opening the notebook for the first part (i.e. Predictive Maintenance):\n",
    " <a href=\"https://colab.research.google.com/github/pablodecm/datalab_ml_iot/blob/master/01_predictive_mainteinance/predictive_maintenance.ipynb\">\n",
    "  <img src=\"https://colab.research.google.com/assets/colab-badge.svg\" width=\"15%\" alt=\"Open In Colab\"/>\n",
    "</a>"
   ]
  }
 ],
 "metadata": {
  "celltoolbar": "Slideshow",
  "kernelspec": {
   "display_name": "Python 3",
   "language": "python",
   "name": "python3"
  },
  "language_info": {
   "codemirror_mode": {
    "name": "ipython",
    "version": 3
   },
   "file_extension": ".py",
   "mimetype": "text/x-python",
   "name": "python",
   "nbconvert_exporter": "python",
   "pygments_lexer": "ipython3",
   "version": "3.6.7"
  }
 },
 "nbformat": 4,
 "nbformat_minor": 2
}
