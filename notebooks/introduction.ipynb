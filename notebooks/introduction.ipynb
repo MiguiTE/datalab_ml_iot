{
 "cells": [
  {
   "cell_type": "markdown",
   "metadata": {
    "slideshow": {
     "slide_type": "slide"
    }
   },
   "source": [
    " <div style=\"text-align:center\">\n",
    "\n",
    "# Hands-On Machine Learning for the IoT\n",
    "<hr style=\"height:4px\">\n",
    "\n",
    "<b/> \n",
    "## 8-9 May 2019\n",
    "## Master of Data Science (UC-UIMP-CSIC)\n",
    "</div>\n",
    "\n",
    "<b/> \n",
    "\n",
    "\n",
    "## *Pablo de Castro (pablodecm@gmail.com)*\n",
    "\n",
    "<i class=\"fa fa-twitter\"></i> [@pablodecm](https://twitter.com/pablodecm)\n",
    "&nbsp; <i class=\"fa fa-linkedin\"></i> [pablodecm](https://www.linkedin.com/in/pablodecm)\n",
    "&nbsp; <i class=\"fa fa-github\"></i> [pablodecm](https://github.com/pablodecm)\n",
    "&nbsp; [pablodecm.com](https://pablodecm.com)\n"
   ]
  },
  {
   "cell_type": "markdown",
   "metadata": {
    "cell_style": "center",
    "slideshow": {
     "slide_type": "slide"
    }
   },
   "source": [
    "\n",
    "<img style=\"float:right\" width=\"30%\" src=\"gfx/cms_experiment.jpg\"/>\n",
    "\n",
    "<div>\n",
    "    \n",
    "## A Little Bit About Me\n",
    "\n",
    "- I am Pablo\n",
    "- I enjoy working with various computational tools and data\n",
    "- Bachelor's and Master's degree (in Physics) @ UNICAN\n",
    "- Just finished my PhD at the U. of Padua, focused on:\n",
    "    - Development of new ML techniques at the LHC\n",
    "    - Improving statistical analysis at large experiments\n",
    "\n",
    "\n",
    "</div>\n"
   ]
  },
  {
   "cell_type": "markdown",
   "metadata": {
    "slideshow": {
     "slide_type": "fragment"
    }
   },
   "source": [
    "## ... and now it is your turn"
   ]
  },
  {
   "cell_type": "markdown",
   "metadata": {
    "slideshow": {
     "slide_type": "slide"
    }
   },
   "source": [
    "## Objectives of this two DataLab sessions\n",
    "\n",
    "- Highlight the role that of Machine Learning techniques in t\n",
    "- Explore practically the use case"
   ]
  },
  {
   "cell_type": "markdown",
   "metadata": {
    "slideshow": {
     "slide_type": "slide"
    }
   },
   "source": [
    "## Overview"
   ]
  },
  {
   "cell_type": "markdown",
   "metadata": {
    "slideshow": {
     "slide_type": "slide"
    }
   },
   "source": [
    "## Motivation"
   ]
  }
 ],
 "metadata": {
  "celltoolbar": "Slideshow",
  "kernelspec": {
   "display_name": "Python 3",
   "language": "python",
   "name": "python3"
  },
  "language_info": {
   "codemirror_mode": {
    "name": "ipython",
    "version": 3
   },
   "file_extension": ".py",
   "mimetype": "text/x-python",
   "name": "python",
   "nbconvert_exporter": "python",
   "pygments_lexer": "ipython3",
   "version": "3.6.7"
  }
 },
 "nbformat": 4,
 "nbformat_minor": 2
}
